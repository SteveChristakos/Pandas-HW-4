In [70]:
# Dependencies and Setup
import pandas as pd
import numpy as np
In [71]:
file_to_load = "purchase_edited_data.csv"
In [72]:
purchase_data_df_2 = pd.read_csv(file_to_load)
In [73]:
purchase_data_df_2.head()
Out[73]:
Purchase ID	SN	Age	Gender	Item ID	Item Name	Price
0	0	Lisim78	20	Male	108	Extraction, Quickblade Of Trembling Hands	3.53
1	1	Lisovynya38	40	Male	143	Frenzied Scimitar	1.56
2	2	Ithergue48	24	Male	92	Final Critic	4.88
3	3	Chamassasya86	24	Male	100	Blindscythe	3.27
4	4	Iskosia90	23	Male	131	Fury	1.44
In [74]:
print(purchase_data_df_2["Age"].max())
print(purchase_data_df_2["Age"].min())
45
7
In [75]:
Total_Players = len(purchase_data_df_2["SN"].unique())
Total_Players
Out[75]:
576
In [76]:
# Create bins in which to place values based upon TED Talk views
bins = [0, 9, 14, 19, 24, 29, 34, 39, 46]

# Create labels for these bins
group_labels = ["<10", "10-15", "15-20", "20-25", "25-30", "30-35", "35-40", "40+"]
In [77]:
pd.cut(purchase_data_df_2["Age"], bins, labels=group_labels).head()
Out[77]:
0    20-25
1      40+
2    20-25
3    20-25
4    20-25
Name: Age, dtype: category
Categories (8, object): [<10 < 10-15 < 15-20 < 20-25 < 25-30 < 30-35 < 35-40 < 40+]
In [78]:
# Place the data series into a new column inside of the DataFrame
purchase_data_df_2["Age Group"] = pd.cut(purchase_data_df_2["Age"], bins, labels=group_labels)
purchase_data_df_2.head()
Out[78]:
Purchase ID	SN	Age	Gender	Item ID	Item Name	Price	Age Group
0	0	Lisim78	20	Male	108	Extraction, Quickblade Of Trembling Hands	3.53	20-25
1	1	Lisovynya38	40	Male	143	Frenzied Scimitar	1.56	40+
2	2	Ithergue48	24	Male	92	Final Critic	4.88	20-25
3	3	Chamassasya86	24	Male	100	Blindscythe	3.27	20-25
4	4	Iskosia90	23	Male	131	Fury	1.44	20-25
In [82]:
agegroup_data1 = purchase_data_df_2.groupby("Age Group")
agegroup_data1["Purchase ID"].count()
Out[82]:
Age Group
<10       23
10-15     28
15-20    136
20-25    365
25-30    101
30-35     73
35-40     41
40+       13
Name: Purchase ID, dtype: int64
In [84]:
price_avg = purchase_data_df_2.groupby("Age Group")['Price'].mean()
price_avg
Out[84]:
Age Group
<10      3.353478
10-15    2.956429
15-20    3.035956
20-25    3.052219
25-30    2.900990
30-35    2.931507
35-40    3.601707
40+      2.941538
Name: Price, dtype: float64
In [108]:
age_analysis = purchase_data_df_2.groupby("Age Group").agg({"Price": ["mean", "sum", "count"], "SN": "nunique"})
age_analysis
Out[108]:
Price	SN
mean	sum	count	nunique
Age Group				
<10	3.353478	77.13	23	17
10-15	2.956429	82.78	28	22
15-20	3.035956	412.89	136	107
20-25	3.052219	1114.06	365	258
25-30	2.900990	293.00	101	77
30-35	2.931507	214.00	73	52
35-40	3.601707	147.67	41	31
40+	2.941538	38.24	13	12
In [110]:
age_analysis.columns = ["Average Purchase Price", "Total Purchase Value", "Purchase Count", "Unique Players"]
age_analysis
Out[110]:
Average Purchase Price	Total Purchase Value	Purchase Count	Unique Players
Age Group				
<10	3.353478	77.13	23	17
10-15	2.956429	82.78	28	22
15-20	3.035956	412.89	136	107
20-25	3.052219	1114.06	365	258
25-30	2.900990	293.00	101	77
30-35	2.931507	214.00	73	52
35-40	3.601707	147.67	41	31
40+	2.941538	38.24	13	12
In [115]:
age_analysis["Avg Purchase By Player"] = age_analysis["Total Purchase Value"]/age_analysis["Unique Players"]
age_analysis
Out[115]:
Average Purchase Price	Total Purchase Value	Purchase Count	Unique Players	Avg Purchase By Player
Age Group					
<10	3.353478	77.13	23	17	4.537059
10-15	2.956429	82.78	28	22	3.762727
15-20	3.035956	412.89	136	107	3.858785
20-25	3.052219	1114.06	365	258	4.318062
25-30	2.900990	293.00	101	77	3.805195
30-35	2.931507	214.00	73	52	4.115385
35-40	3.601707	147.67	41	31	4.763548
40+	2.941538	38.24	13	12	3.186667
In [116]:
reduced_age_analysis = age_analysis.loc[:, ["Purchase Count", "Total Purchase Value","Average Purchase Price", "Avg Purchase By Player"]]
reduced_age_analysis
Out[116]:
Purchase Count	Total Purchase Value	Average Purchase Price	Avg Purchase By Player
Age Group				
<10	23	77.13	3.353478	4.537059
10-15	28	82.78	2.956429	3.762727
15-20	136	412.89	3.035956	3.858785
20-25	365	1114.06	3.052219	4.318062
25-30	101	293.00	2.900990	3.805195
30-35	73	214.00	2.931507	4.115385
35-40	41	147.67	3.601707	4.763548
40+	13	38.24	2.941538	3.186667
In [83]:
agegroup_data = purchase_data_df_2.groupby("Age Group")['SN'].nunique()
agegroup_data
Out[83]:
Age Group
<10       17
10-15     22
15-20    107
20-25    258
25-30     77
30-35     52
35-40     31
40+       12
Name: SN, dtype: int64
In [81]:
agegroup_data = purchase_data_df_2.groupby("Age Group")['SN'].nunique()
g_apply = agegroup_data.apply(lambda x:(x/agegroup_data.sum())*100)
g_apply
Out[81]:
Age Group
<10       2.951389
10-15     3.819444
15-20    18.576389
20-25    44.791667
25-30    13.368056
30-35     9.027778
35-40     5.381944
40+       2.083333
Name: SN, dtype: float64
In [88]:
pd.DataFrame([agegroup_data, g_apply]).T
Out[88]:
SN	SN
Age Group		
<10	17.0	2.951389
10-15	22.0	3.819444
15-20	107.0	18.576389
20-25	258.0	44.791667
25-30	77.0	13.368056
30-35	52.0	9.027778
35-40	31.0	5.381944
40+	12.0	2.083333
In [94]:
summary_table_demographics = pd.DataFrame({"Number of Players": agegroup_data,
                                     "Percentage of Players": g_apply})
#(str($) str(round(x,2)) ) for doing the others
summary_table_demographics["Percentage of Players"] = summary_table_demographics["Percentage of Players"].apply(lambda x: round(x, 2))
summary_table_demographics
Out[94]:
Number of Players	Percentage of Players
Age Group		
<10	17	2.95
10-15	22	3.82
15-20	107	18.58
20-25	258	44.79
25-30	77	13.37
30-35	52	9.03
35-40	31	5.38
40+	12	2.08
In [ ]:
g_apply_1 = agegroup_data.apply(lambda x:(x/agegroup_data.sum())*100)
In [46]:
# Create a GroupBy object based upon "View Group"
#purchase_data_df_2_group = purchase_data_df_2.groupby("Age Group")
#purchase_data_df_2_group.head()
# Find how many rows fall into each bin
#print(purchase_data_df_2_group["Total_Players"].count())
In [117]:
reduced_age_analysis = age_analysis.loc[:, ["Purchase Count", "Total Purchase Value","Average Purchase Price", "Avg Purchase By Player"]]
reduced_age_analysis
Out[117]:
Purchase Count	Total Purchase Value	Average Purchase Price	Avg Purchase By Player
Age Group				
<10	23	77.13	3.353478	4.537059
10-15	28	82.78	2.956429	3.762727
15-20	136	412.89	3.035956	3.858785
20-25	365	1114.06	3.052219	4.318062
25-30	101	293.00	2.900990	3.805195
30-35	73	214.00	2.931507	4.115385
35-40	41	147.67	3.601707	4.763548
40+	13	38.24	2.941538	3.186667
In [ ]:
#go back and run this later, use kickstarter to figure it out
In [121]:
top_spender = purchase_data_df_2.groupby("SN")
top_spender.max().head()
Out[121]:
Purchase ID	Age	Gender	Item ID	Item Name	Price	Age Group
SN							
Adairialis76	467	16	Male	123	Twilight's Carver	2.28	15-20
Adastirin33	142	35	Female	175	Woeful Adamantite Claymore	4.48	35-40
Aeda94	388	17	Male	128	Blazeguard, Reach of Eternity	4.91	15-20
Aela59	28	21	Male	119	Stormbringer, Dark Blade of Ending Misery	4.32	20-25
Aelaria33	630	23	Male	171	Scalpel	1.79	20-25
In [126]:
spend_analysis = top_spender.agg({"Price": ["count", "mean", "sum"]})
spend_analysis.head()
Out[126]:
Price
count	mean	sum
SN			
Adairialis76	1	2.28	2.28
Adastirin33	1	4.48	4.48
Aeda94	1	4.91	4.91
Aela59	1	4.32	4.32
Aelaria33	1	1.79	1.79
In [127]:
spend_analysis.columns
Out[127]:
MultiIndex(levels=[['Price'], ['count', 'mean', 'sum']],
           labels=[[0, 0, 0], [0, 1, 2]])
In [128]:
spend_analysis.columns = ["Purchase Count", "Average Purchase Price", "Total Purchase Value"]
spend_analysis.head()
Out[128]:
Purchase Count	Average Purchase Price	Total Purchase Value
SN			
Adairialis76	1	2.28	2.28
Adastirin33	1	4.48	4.48
Aeda94	1	4.91	4.91
Aela59	1	4.32	4.32
Aelaria33	1	1.79	1.79
In [130]:
spend_analysis_sort = spend_analysis.sort_values("Total Purchase Value", ascending=False)
spend_analysis_sort.head()
Out[130]:
Purchase Count	Average Purchase Price	Total Purchase Value
SN			
Lisosia93	5	3.792000	18.96
Idastidru52	4	3.862500	15.45
Chamjask73	3	4.610000	13.83
Iral74	4	3.405000	13.62
Iskadarya95	3	4.366667	13.10
In [131]:
spend_analysis_sort["Average Purchase Price"] = spend_analysis_sort["Average Purchase Price"].astype(float).map(
    "${:,.2f}".format)
spend_analysis_sort["Total Purchase Value"] = spend_analysis_sort["Total Purchase Value"].astype(float).map(
    "${:,.2f}".format)
In [132]:
spend_analysis_sort.head()
Out[132]:
Purchase Count	Average Purchase Price	Total Purchase Value
SN			
Lisosia93	5	$3.79	$18.96</td> </tr> <tr> <th>Idastidru52</th> <td>4</td> <td>$3.86	$15.45</td> </tr> <tr> <th>Chamjask73</th> <td>3</td> <td>$4.61	$13.83</td> </tr> <tr> <th>Iral74</th> <td>4</td> <td>$3.40	$13.62</td> </tr> <tr> <th>Iskadarya95</th> <td>3</td> <td>$4.37	$13.10
In [179]:

In [194]:
#reduced_popularitems1 = popular_items1.groupby(["Item ID", "Item Name"]).agg({'Price': ["count", "mean", "sum"]})
#how to keep the Item price item in there w/o doing a calculation?
#reduced_popularitems1.columns = ["Purchase Count", "Item Price", "Total Purchase Value"]
#reduced_popularitems1.head()                                                                                    
reduced_popularitems1_sort = reduced_popularitems1.sort_values("Purchase Count", ascending=False)
reduced_popularitems1_sort.head()
Out[194]:
Purchase Count	Item Price	Total Purchase Value
Item ID	Item Name			
178	Oathbreaker, Last Hope of the Breaking Storm	12	4.23	50.76
145	Fiery Glass Crusader	9	4.58	41.22
108	Extraction, Quickblade Of Trembling Hands	9	3.53	31.77
82	Nirvana	9	4.90	44.10
19	Pursuit, Cudgel of Necromancy	8	1.02	8.16
In [195]:
reduced_popularitems1_sort = reduced_popularitems1.sort_values("Total Purchase Value", ascending=False)
reduced_popularitems1_sort.head()
Out[195]:
Purchase Count	Item Price	Total Purchase Value
Item ID	Item Name			
178	Oathbreaker, Last Hope of the Breaking Storm	12	4.23	50.76
82	Nirvana	9	4.90	44.10
145	Fiery Glass Crusader	9	4.58	41.22
92	Final Critic	8	4.88	39.04
103	Singed Scalpel	8	4.35	34.80
In [196]:
reduced_popularitems1_sort["Purchase Count"] = reduced_popularitems1_sort["Purchase Count"].astype(float).map(
    "${:,.2f}".format)
reduced_popularitems1_sort["Total Purchase Value"] = reduced_popularitems1_sort["Total Purchase Value"].astype(float).map(
    "${:,.2f}".format)
In [198]:
reduced_popularitems1_sort.head()
Out[198]:
Purchase Count	Item Price	Total Purchase Value
Item ID	Item Name			
178	Oathbreaker, Last Hope of the Breaking Storm	$12.00	4.23	$50.76</td> </tr> <tr> <th>82</th> <th>Nirvana</th> <td>$9.00	4.90	$44.10</td> </tr> <tr> <th>145</th> <th>Fiery Glass Crusader</th> <td>$9.00	4.58	$41.22</td> </tr> <tr> <th>92</th> <th>Final Critic</th> <td>$8.00	4.88	$39.04</td> </tr> <tr> <th>103</th> <th>Singed Scalpel</th> <td>$8.00	4.35	$34.80
In [ ]:
#popularity_summary_table = pd.DataFrame({"Purchase Count": purch_counts,
 #                                   "Total Visit Time": state_duration,
                                        #})
#state_summary_table.head()
In [ ]:
#popularity_summary_table = pd.DataFrame([reduced_popularitems1, 5000, 12000], index=['Rural','Semiurban','Urban'],columns=['rates'])
#prop_rates
In [ ]:
