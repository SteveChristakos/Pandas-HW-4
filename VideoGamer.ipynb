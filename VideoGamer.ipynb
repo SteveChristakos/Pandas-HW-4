In [2]:
# Dependencies and Setup
import pandas as pd
import numpy as np
In [3]:
file_to_load = "purchase_edited_data.csv"
In [4]:
purchase_data_df = pd.read_csv(file_to_load)
In [5]:
purchase_data_df.head()
Out[5]:
Purchase ID	SN	Age	Gender	Item ID	Item Name	Price
0	0	Lisim78	20	Male	108	Extraction, Quickblade Of Trembling Hands	3.53
1	1	Lisovynya38	40	Male	143	Frenzied Scimitar	1.56
2	2	Ithergue48	24	Male	92	Final Critic	4.88
3	3	Chamassasya86	24	Male	100	Blindscythe	3.27
4	4	Iskosia90	23	Male	131	Fury	1.44
In [6]:
Total_Players = len(purchase_data_df["SN"].unique())
Total_Players
Out[6]:
576
In [7]:
summary_table_players = pd.DataFrame({"Total Players": [Total_Players]})
summary_table_players
Out[7]:
Total Players
0	576
In [8]:
number_of_unique = len(purchase_data_df["Item ID"].unique())
number_of_unique
Out[8]:
183
In [9]:
average_price = purchase_data_df["Price"].mean()
print("$" +str(round(average_price, 2)))
$3.05
In [10]:
number_purchases = len(purchase_data_df["Purchase ID"].value_counts())
number_purchases
Out[10]:
780
In [11]:
total_revenue = purchase_data_df["Price"].sum()
print("$" +str(round(total_revenue, 2)))
$2379.77
In [12]:
summary_table_items = pd.DataFrame({"Number of Unique Items": [number_of_unique],
                                   "Average Price": ["$" +str(round(average_price, 2))],
                                    "Number of Purchases": [number_purchases],
                                    "Total Revenue": ["$" +str(round(total_revenue, 2))]
                                   })
summary_table_items
Out[12]:
Average Price	Number of Purchases	Number of Unique Items	Total Revenue
0	$3.05</td> <td>780</td> <td>183</td> <td>$2379.77
In [13]:
#get comma in Total revenue later!!!!!!!
In [14]:
purchase_data_df["Gender"].unique()
Out[14]:
array(['Male', 'Other', 'Female'], dtype=object)
In [15]:
#assignee_group = debug_df.groupby("Assignee")
In [16]:
purchase_data_df["Gender"].value_counts()
Out[16]:
Male      652
Female    113
Other      15
Name: Gender, dtype: int64
In [17]:
# Set new index to last_name
purchase_data_df_gender = purchase_data_df.set_index("Gender")
purchase_data_df_gender.head()
Out[17]:
Purchase ID	SN	Age	Item ID	Item Name	Price
Gender						
Male	0	Lisim78	20	108	Extraction, Quickblade Of Trembling Hands	3.53
Male	1	Lisovynya38	40	143	Frenzied Scimitar	1.56
Male	2	Ithergue48	24	92	Final Critic	4.88
Male	3	Chamassasya86	24	100	Blindscythe	3.27
Male	4	Iskosia90	23	131	Fury	1.44
In [18]:
males_df = purchase_data_df.loc[purchase_data_df["Gender"] == "Male"]
males_df
females_df = purchase_data_df.loc[purchase_data_df["Gender"] == "Female"]
females_df
Other_df = purchase_data_df.loc[purchase_data_df["Gender"] == "Other"]
Other_df
Out[18]:
Purchase ID	SN	Age	Gender	Item ID	Item Name	Price
9	9	Chanosian48	35	Other	136	Ghastly Adamantite Protector	3.58
22	22	Siarithria38	38	Other	24	Warped Fetish	3.81
82	82	Haerithp41	16	Other	160	Azurewrath	4.40
111	111	Sundim98	21	Other	41	Orbit	4.75
228	228	Jiskirran77	20	Other	80	Dreamsong	3.39
237	237	Idairin51	20	Other	16	Restored Bauble	3.55
242	242	Eodaisu60	16	Other	39	Betrayal, Whisper of Grieving Widows	3.94
291	291	Idairin51	20	Other	35	Heartless Bone Dualblade	3.45
350	350	Rairith81	15	Other	34	Retribution Axe	2.22
401	401	Lirtim36	15	Other	46	Hopeless Ebon Dualblade	1.33
484	484	Chanosian48	35	Other	39	Betrayal, Whisper of Grieving Widows	3.94
549	549	Maluncil97	25	Other	146	Warped Iron Scimitar	3.10
629	629	Maluncil97	25	Other	107	Splitter, Foe Of Subtlety	2.18
637	637	Airi27	24	Other	163	Thunderfury Scimitar	3.45
747	747	Siarithria38	38	Other	146	Warped Iron Scimitar	3.10
In [19]:
unique_males = len(males_df["SN"].unique())
unique_males
Out[19]:
484
In [20]:
unique_females = len(females_df["SN"].unique())
unique_females
Out[20]:
81
In [21]:
unique_other = len(Other_df["SN"].unique())
unique_other
Out[21]:
11
In [22]:
total_players = unique_males + unique_females + unique_other
total_players
Out[22]:
576
In [23]:
percentage_male = unique_males/total_players * 100
percentage_male
Out[23]:
84.02777777777779
In [24]:
percentage_male = unique_males/total_players * 100
round(percentage_male, 2)
Out[24]:
84.03
In [25]:
percentage_female = unique_females/total_players * 100
round(percentage_female, 2)
Out[25]:
14.06
In [26]:
percentage_other = unique_other/total_players * 100
round(percentage_other, 2)
Out[26]:
1.91
In [27]:
summary_table_gender = pd.DataFrame({"Percentage": [round(percentage_male, 2), round(percentage_female, 2), round(percentage_other, 2)],
                                     "Total Count": [unique_males, unique_females, unique_other]
                                     
                                                                                                                       })
summary_table_gender
Out[27]:
Percentage	Total Count
0	84.03	484
1	14.06	81
2	1.91	11
In [28]:
summary_table_2 = pd.DataFrame([(unique_males, round(percentage_male, 2)),
                                (unique_females, round(percentage_female, 2)),
                                (unique_other, round(percentage_other, 2))],
                                index=['Male', 'Female', 'Other / Non-Disclosed'],
                                columns=('Total Count', 'Percentage of Players'))
summary_table_2
Out[28]:
Total Count	Percentage of Players
Male	484	84.03
Female	81	14.06
Other / Non-Disclosed	11	1.91
In [29]:
purchase_data_df["Gender"].value_counts()
Out[29]:
Male      652
Female    113
Other      15
Name: Gender, dtype: int64
In [30]:
gender_group = purchase_data_df.groupby("Gender")
gender_group.count().head()
Out[30]:
Purchase ID	SN	Age	Item ID	Item Name	Price
Gender						
Female	113	113	113	113	113	113
Male	652	652	652	652	652	652
Other	15	15	15	15	15	15
In [31]:
gender_group.sum().head()
Out[31]:
Purchase ID	Age	Item ID	Price
Gender				
Female	42870	2412	9659	361.94
Male	255921	14942	60978	1967.64
Other	5019	363	1212	50.19
In [32]:
males_purchase = males_df["Price"].sum()
males_purchase
Out[32]:
1967.6399999999994
In [33]:
num_males = males_df["Purchase ID"].count()
num_males
Out[33]:
652
In [118]:
females_purchase = females_df["Price"].sum()
females_purchase
Out[118]:
361.93999999999966
In [119]:
num_females = females_df["Purchase ID"].count()
num_females
Out[119]:
113
In [120]:
others_purchase = Other_df["Price"].sum()
others_purchase
Out[120]:
50.190000000000005
In [121]:
num_others = Other_df["Purchase ID"].count()
num_others
Out[121]:
15
In [122]:
avg_per_guy = males_purchase/unique_males
avg_per_guy
Out[122]:
4.065371900826445
In [123]:
avg_per_gal = females_purchase/unique_females
avg_per_gal
Out[123]:
4.4683950617283905
In [124]:
avg_per_other = others_purchase/unique_other
avg_per_other
Out[124]:
4.562727272727273
In [125]:
avg_pur_price_men = males_purchase/num_males
avg_pur_price_men
Out[125]:
3.0178527607361953
In [126]:
avg_pur_price_other = others_purchase/num_others
avg_pur_price_other
Out[126]:
3.3460000000000005
In [127]:
avg_pur_price_women = females_purchase/num_females
avg_pur_price_women
Out[127]:
3.2030088495575191
In [134]:
summary_table_3 = pd.DataFrame([('', '', '', ''),
                                (num_females, round(avg_pur_price_women, 2), round(females_purchase, 2), round(avg_per_gal, 2)),
                                (num_males, round(avg_pur_price_men, 2), round(males_purchase, 2), round(avg_per_guy, 2)),
                                (num_others, round(avg_pur_price_other, 2), round(others_purchase), round(avg_per_other, 2))],
                                index=['Gender', 'Female', 'Male', 'Other / Non-Disclosed'],
                                columns=('Purchase Count', 'Average Purchase Price', 'Total Purchase Value', 'Avg Total Purchase per Person'))
summary_table_3
Out[134]:
Purchase Count	Average Purchase Price	Total Purchase Value	Avg Total Purchase per Person
Gender				
Female	113	3.2	361.94	4.47
Male	652	3.02	1967.64	4.07
Other / Non-Disclosed	15	3.35	50	4.56
In [ ]:
